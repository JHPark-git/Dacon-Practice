{
  "nbformat": 4,
  "nbformat_minor": 0,
  "metadata": {
    "colab": {
      "name": "DACON_영화 관객수 예측 모델.ipynb",
      "provenance": [],
      "collapsed_sections": [],
      "authorship_tag": "ABX9TyPDYo0jQCqeQoEdotIZ+71h",
      "include_colab_link": true
    },
    "kernelspec": {
      "name": "python3",
      "display_name": "Python 3"
    },
    "language_info": {
      "name": "python"
    }
  },
  "cells": [
    {
      "cell_type": "markdown",
      "metadata": {
        "id": "view-in-github",
        "colab_type": "text"
      },
      "source": [
        "<a href=\"https://colab.research.google.com/github/JHPark-git/Repo/blob/main/DACON_%EC%98%81%ED%99%94_%EA%B4%80%EA%B0%9D%EC%88%98_%EC%98%88%EC%B8%A1_%EB%AA%A8%EB%8D%B8.ipynb\" target=\"_parent\"><img src=\"https://colab.research.google.com/assets/colab-badge.svg\" alt=\"Open In Colab\"/></a>"
      ]
    },
    {
      "cell_type": "markdown",
      "source": [
        "#기본 Tree model(One Hot Encoder)"
      ],
      "metadata": {
        "id": "iEGHXKtFfgG5"
      }
    },
    {
      "cell_type": "code",
      "metadata": {
        "colab": {
          "base_uri": "https://localhost:8080/"
        },
        "id": "2OzQurNDsjng",
        "outputId": "54083f96-98d4-462e-8b25-5d16666acd18"
      },
      "source": [
        "import pandas as pd\n",
        "movie_train = pd.read_csv('/content/movies_train.csv')\n",
        "movie_test = pd.read_csv('/content/movies_test.csv')\n",
        "movie_train.shape"
      ],
      "execution_count": null,
      "outputs": [
        {
          "output_type": "execute_result",
          "data": {
            "text/plain": [
              "(600, 12)"
            ]
          },
          "metadata": {},
          "execution_count": 1
        }
      ]
    },
    {
      "cell_type": "code",
      "metadata": {
        "colab": {
          "base_uri": "https://localhost:8080/",
          "height": 399
        },
        "id": "KC438B0eSepD",
        "outputId": "70a2c90f-64a6-43fd-ac01-1262b441e465"
      },
      "source": [
        "pd.DataFrame.head(movie_train)"
      ],
      "execution_count": null,
      "outputs": [
        {
          "output_type": "execute_result",
          "data": {
            "text/html": [
              "<div>\n",
              "<style scoped>\n",
              "    .dataframe tbody tr th:only-of-type {\n",
              "        vertical-align: middle;\n",
              "    }\n",
              "\n",
              "    .dataframe tbody tr th {\n",
              "        vertical-align: top;\n",
              "    }\n",
              "\n",
              "    .dataframe thead th {\n",
              "        text-align: right;\n",
              "    }\n",
              "</style>\n",
              "<table border=\"1\" class=\"dataframe\">\n",
              "  <thead>\n",
              "    <tr style=\"text-align: right;\">\n",
              "      <th></th>\n",
              "      <th>title</th>\n",
              "      <th>distributor</th>\n",
              "      <th>genre</th>\n",
              "      <th>release_time</th>\n",
              "      <th>time</th>\n",
              "      <th>screening_rat</th>\n",
              "      <th>director</th>\n",
              "      <th>dir_prev_bfnum</th>\n",
              "      <th>dir_prev_num</th>\n",
              "      <th>num_staff</th>\n",
              "      <th>num_actor</th>\n",
              "      <th>box_off_num</th>\n",
              "    </tr>\n",
              "  </thead>\n",
              "  <tbody>\n",
              "    <tr>\n",
              "      <th>0</th>\n",
              "      <td>개들의 전쟁</td>\n",
              "      <td>롯데엔터테인먼트</td>\n",
              "      <td>액션</td>\n",
              "      <td>2012-11-22</td>\n",
              "      <td>96</td>\n",
              "      <td>청소년 관람불가</td>\n",
              "      <td>조병옥</td>\n",
              "      <td>NaN</td>\n",
              "      <td>0</td>\n",
              "      <td>91</td>\n",
              "      <td>2</td>\n",
              "      <td>23398</td>\n",
              "    </tr>\n",
              "    <tr>\n",
              "      <th>1</th>\n",
              "      <td>내부자들</td>\n",
              "      <td>(주)쇼박스</td>\n",
              "      <td>느와르</td>\n",
              "      <td>2015-11-19</td>\n",
              "      <td>130</td>\n",
              "      <td>청소년 관람불가</td>\n",
              "      <td>우민호</td>\n",
              "      <td>1161602.50</td>\n",
              "      <td>2</td>\n",
              "      <td>387</td>\n",
              "      <td>3</td>\n",
              "      <td>7072501</td>\n",
              "    </tr>\n",
              "    <tr>\n",
              "      <th>2</th>\n",
              "      <td>은밀하게 위대하게</td>\n",
              "      <td>(주)쇼박스</td>\n",
              "      <td>액션</td>\n",
              "      <td>2013-06-05</td>\n",
              "      <td>123</td>\n",
              "      <td>15세 관람가</td>\n",
              "      <td>장철수</td>\n",
              "      <td>220775.25</td>\n",
              "      <td>4</td>\n",
              "      <td>343</td>\n",
              "      <td>4</td>\n",
              "      <td>6959083</td>\n",
              "    </tr>\n",
              "    <tr>\n",
              "      <th>3</th>\n",
              "      <td>나는 공무원이다</td>\n",
              "      <td>(주)NEW</td>\n",
              "      <td>코미디</td>\n",
              "      <td>2012-07-12</td>\n",
              "      <td>101</td>\n",
              "      <td>전체 관람가</td>\n",
              "      <td>구자홍</td>\n",
              "      <td>23894.00</td>\n",
              "      <td>2</td>\n",
              "      <td>20</td>\n",
              "      <td>6</td>\n",
              "      <td>217866</td>\n",
              "    </tr>\n",
              "    <tr>\n",
              "      <th>4</th>\n",
              "      <td>불량남녀</td>\n",
              "      <td>쇼박스(주)미디어플렉스</td>\n",
              "      <td>코미디</td>\n",
              "      <td>2010-11-04</td>\n",
              "      <td>108</td>\n",
              "      <td>15세 관람가</td>\n",
              "      <td>신근호</td>\n",
              "      <td>1.00</td>\n",
              "      <td>1</td>\n",
              "      <td>251</td>\n",
              "      <td>2</td>\n",
              "      <td>483387</td>\n",
              "    </tr>\n",
              "  </tbody>\n",
              "</table>\n",
              "</div>"
            ],
            "text/plain": [
              "       title   distributor genre  ... num_staff  num_actor box_off_num\n",
              "0     개들의 전쟁      롯데엔터테인먼트    액션  ...        91          2       23398\n",
              "1       내부자들        (주)쇼박스   느와르  ...       387          3     7072501\n",
              "2  은밀하게 위대하게        (주)쇼박스    액션  ...       343          4     6959083\n",
              "3   나는 공무원이다        (주)NEW   코미디  ...        20          6      217866\n",
              "4       불량남녀  쇼박스(주)미디어플렉스   코미디  ...       251          2      483387\n",
              "\n",
              "[5 rows x 12 columns]"
            ]
          },
          "metadata": {},
          "execution_count": 34
        }
      ]
    },
    {
      "cell_type": "markdown",
      "source": [
        "너무 많은 수의 제작사 > One Hot Encoder 사용시 데이터 크기가 너무 클 뿐 더러 상관관계가 저하될 우려 존재."
      ],
      "metadata": {
        "id": "-8Y0ABvljCKs"
      }
    },
    {
      "cell_type": "code",
      "metadata": {
        "colab": {
          "base_uri": "https://localhost:8080/"
        },
        "id": "jot93NdSMgp3",
        "outputId": "7bfbd447-fbc6-4b3b-f3f3-074902caa809"
      },
      "source": [
        "import numpy as np\n",
        "distributor = movie_train[['distributor']]\n",
        "distributor.value_counts()\n",
        "np.unique(distributor)"
      ],
      "execution_count": null,
      "outputs": [
        {
          "output_type": "execute_result",
          "data": {
            "text/plain": [
              "array(['(주) 브릿지웍스', '(주) 액티버스엔터테인먼트', '(주) 영화사조제', '(주) 영화제작전원사',\n",
              "       '(주) 케이알씨지', '(주)JK필름', '(주)NEW', '(주)고앤고 필름', '(주)노버스엔터테인먼트',\n",
              "       '(주)대명문화공장', '(주)더픽쳐스', '(주)두타연', '(주)드림팩트엔터테인먼트', '(주)랠리버튼',\n",
              "       '(주)레인보우 팩토리', '(주)로드하우스', '(주)리틀빅픽처스', '(주)마운틴픽쳐스',\n",
              "       '(주)마인스 엔터테인먼트', '(주)마인스엔터테인먼트', '(주)미디어데이', '(주)쇼박스', '(주)스마일이엔티',\n",
              "       '(주)스톰픽쳐스코리아', '(주)시네마달', '(주)씨엠닉스', '(주)아우라픽처스', '(주)아이필름코퍼레이션',\n",
              "       '(주)에이원 엔터테인먼트', '(주)엣나인필름', '(주)예지림 엔터테인먼트', '(주)온비즈넷',\n",
              "       '(주)유비네트워크', '(주)유비콘텐츠', '(주)이스트스카이필름', '(주)콘텐츠 윙', '(주)키노아이',\n",
              "       '(주)팝 파트너스', '(주)팝엔터테인먼트', '(주)패뷸러스', '(주)패스파인더씨앤씨', '(주)프레인글로벌',\n",
              "       '(주)피터팬픽쳐스', '(주)휘엔터테인먼트', 'BoXoo 엔터테인먼트', 'CGV 무비꼴라쥬',\n",
              "       'CGV 아트하우스', 'CGV아트하우스', 'CJ CGV', 'CJ E&M Pictures',\n",
              "       'CJ E&M 영화부문', 'CJ 엔터테인먼트', 'KBS미디어(주)', 'KT', 'KT&G 상상마당',\n",
              "       'M2픽처스', 'NEW', 'OAL(올)', 'SBS콘텐츠허브', 'SK텔레콤(주)', 'SK플래닛',\n",
              "       'THE 픽쳐스', 'tvN', 'ysfilm', '건시네마', '고구마공작소', '골든타이드픽처스', '김기덕 필름',\n",
              "       '나우콘텐츠', '나이너스엔터테인먼트(주)', '노바엔터테인먼트', '더 피플', '더픽쳐스/(주)마운틴픽쳐스',\n",
              "       '동국대학교 충무로영상제작센터', '두 엔터테인먼트', '드림로드', '드림팩트 엔터테인먼트', '디 씨드',\n",
              "       '디마엔터테인먼트', '롤러코스터 프로덕션', '롯데엔터테인먼트', '리틀빅픽처스', '리틀빅픽쳐스',\n",
              "       '마노엔터테인먼트', '마법사필름', '마운틴 픽처스', '머스트 씨 무비', '메가박스(주)플러스엠', '무비꼴라쥬',\n",
              "       '미라클 필름', '백두대간', '보람엔터테인먼트', '사람과 사람들', '상구네 필름', '새인컴퍼니',\n",
              "       '서울독립영화제', '쇼박스(주)미디어플렉스', '스크린조이', '스토리셋', '스튜디오 느림보', '스튜디오 블루',\n",
              "       '스튜디오후크', '스폰지', '스폰지이엔티', '시너지', '시네마 달', '시네마달', '시네마서비스',\n",
              "       '싸이더스', '싸이더스 FNH', '싸이더스FNH', '씨너스엔터테인먼트(주)', '씨네굿필름',\n",
              "       '씨네그루(주)키다리이엔티', '아방가르드 필름', '어뮤즈', '어썸 피플', '에스와이코마드', '에스피엠',\n",
              "       '에이블엔터테인먼트', '에이원 엔터테인먼트', '영구아트무비', '영화사 廊', '영화사 조아', '영화사 진진',\n",
              "       '영희야놀자', '오퍼스픽쳐스', '와이드 릴리즈(주)', '와이드릴리즈(주)', '웃기씨네', '위더스필름',\n",
              "       '위드시네마', '유니버설픽쳐스인터내셔널코리아', '이달투', '이모션 픽처스', '이상우필름',\n",
              "       '이십세기폭스코리아(주)', '인디스토리', '인디플러그', '인벤트 디', '인터콘미디어', '인피니티엔터테인먼트',\n",
              "       '쟈비스미디어', '전망좋은영화사', '전주국제영화제', '제나두 엔터테인먼트', '조이앤시네마', '조이앤컨텐츠그룹',\n",
              "       '주머니필름', '찬란', '케이엠스타', '콘텐츠판다', '크리에이티브컴즈(주)', '키노엔터테인먼트',\n",
              "       '타임스토리그룹', '트리필름', '파이오니아21', '판다미디어', '판씨네마(주)', '팜코리아미디어',\n",
              "       '퍼스트런', '프로젝트 엠피', '프리비젼 엔터테인먼트', '필라멘트 픽쳐스', '필름라인', '하준사',\n",
              "       '한국YWCA연합회', '홀리가든', '화앤담이엔티'], dtype=object)"
            ]
          },
          "metadata": {},
          "execution_count": 35
        }
      ]
    },
    {
      "cell_type": "markdown",
      "source": [
        "**pd.DataFrame.info()**: 데이터 정보 확인/null value 확인 > dir_prev_bfnum null value 존재(관객수가 알려지지 않은 경우)"
      ],
      "metadata": {
        "id": "S1TePUC6jkSH"
      }
    },
    {
      "cell_type": "code",
      "metadata": {
        "colab": {
          "base_uri": "https://localhost:8080/"
        },
        "id": "yX12ievKUO3i",
        "outputId": "b9035e42-48cd-4c06-bb5e-552061347ebe"
      },
      "source": [
        "pd.DataFrame.info(movie_train)"
      ],
      "execution_count": null,
      "outputs": [
        {
          "output_type": "stream",
          "name": "stdout",
          "text": [
            "<class 'pandas.core.frame.DataFrame'>\n",
            "RangeIndex: 600 entries, 0 to 599\n",
            "Data columns (total 12 columns):\n",
            " #   Column          Non-Null Count  Dtype  \n",
            "---  ------          --------------  -----  \n",
            " 0   title           600 non-null    object \n",
            " 1   distributor     600 non-null    object \n",
            " 2   genre           600 non-null    object \n",
            " 3   release_time    600 non-null    object \n",
            " 4   time            600 non-null    int64  \n",
            " 5   screening_rat   600 non-null    object \n",
            " 6   director        600 non-null    object \n",
            " 7   dir_prev_bfnum  270 non-null    float64\n",
            " 8   dir_prev_num    600 non-null    int64  \n",
            " 9   num_staff       600 non-null    int64  \n",
            " 10  num_actor       600 non-null    int64  \n",
            " 11  box_off_num     600 non-null    int64  \n",
            "dtypes: float64(1), int64(5), object(6)\n",
            "memory usage: 56.4+ KB\n"
          ]
        }
      ]
    },
    {
      "cell_type": "code",
      "metadata": {
        "colab": {
          "base_uri": "https://localhost:8080/"
        },
        "id": "7uY1EQ17Kkzd",
        "outputId": "20099fa4-e8ec-40aa-f2f1-5e3e2975717c"
      },
      "source": [
        "pd.DataFrame.info(movie_test)"
      ],
      "execution_count": null,
      "outputs": [
        {
          "output_type": "stream",
          "name": "stdout",
          "text": [
            "<class 'pandas.core.frame.DataFrame'>\n",
            "RangeIndex: 243 entries, 0 to 242\n",
            "Data columns (total 11 columns):\n",
            " #   Column          Non-Null Count  Dtype  \n",
            "---  ------          --------------  -----  \n",
            " 0   title           243 non-null    object \n",
            " 1   distributor     243 non-null    object \n",
            " 2   genre           243 non-null    object \n",
            " 3   release_time    243 non-null    object \n",
            " 4   time            243 non-null    int64  \n",
            " 5   screening_rat   243 non-null    object \n",
            " 6   director        243 non-null    object \n",
            " 7   dir_prev_bfnum  107 non-null    float64\n",
            " 8   dir_prev_num    243 non-null    int64  \n",
            " 9   num_staff       243 non-null    int64  \n",
            " 10  num_actor       243 non-null    int64  \n",
            "dtypes: float64(1), int64(4), object(6)\n",
            "memory usage: 21.0+ KB\n"
          ]
        }
      ]
    },
    {
      "cell_type": "code",
      "metadata": {
        "colab": {
          "base_uri": "https://localhost:8080/",
          "height": 320
        },
        "id": "vWIoSXA3WEUs",
        "outputId": "50363429-1e55-4dca-f9cf-c027888a4a86"
      },
      "source": [
        "pd.DataFrame.describe(movie_train)"
      ],
      "execution_count": null,
      "outputs": [
        {
          "output_type": "execute_result",
          "data": {
            "text/html": [
              "<div>\n",
              "<style scoped>\n",
              "    .dataframe tbody tr th:only-of-type {\n",
              "        vertical-align: middle;\n",
              "    }\n",
              "\n",
              "    .dataframe tbody tr th {\n",
              "        vertical-align: top;\n",
              "    }\n",
              "\n",
              "    .dataframe thead th {\n",
              "        text-align: right;\n",
              "    }\n",
              "</style>\n",
              "<table border=\"1\" class=\"dataframe\">\n",
              "  <thead>\n",
              "    <tr style=\"text-align: right;\">\n",
              "      <th></th>\n",
              "      <th>time</th>\n",
              "      <th>dir_prev_bfnum</th>\n",
              "      <th>dir_prev_num</th>\n",
              "      <th>num_staff</th>\n",
              "      <th>num_actor</th>\n",
              "      <th>box_off_num</th>\n",
              "    </tr>\n",
              "  </thead>\n",
              "  <tbody>\n",
              "    <tr>\n",
              "      <th>count</th>\n",
              "      <td>600.000000</td>\n",
              "      <td>2.700000e+02</td>\n",
              "      <td>600.000000</td>\n",
              "      <td>600.000000</td>\n",
              "      <td>600.000000</td>\n",
              "      <td>6.000000e+02</td>\n",
              "    </tr>\n",
              "    <tr>\n",
              "      <th>mean</th>\n",
              "      <td>100.863333</td>\n",
              "      <td>1.050443e+06</td>\n",
              "      <td>0.876667</td>\n",
              "      <td>151.118333</td>\n",
              "      <td>3.706667</td>\n",
              "      <td>7.081818e+05</td>\n",
              "    </tr>\n",
              "    <tr>\n",
              "      <th>std</th>\n",
              "      <td>18.097528</td>\n",
              "      <td>1.791408e+06</td>\n",
              "      <td>1.183409</td>\n",
              "      <td>165.654671</td>\n",
              "      <td>2.446889</td>\n",
              "      <td>1.828006e+06</td>\n",
              "    </tr>\n",
              "    <tr>\n",
              "      <th>min</th>\n",
              "      <td>45.000000</td>\n",
              "      <td>1.000000e+00</td>\n",
              "      <td>0.000000</td>\n",
              "      <td>0.000000</td>\n",
              "      <td>0.000000</td>\n",
              "      <td>1.000000e+00</td>\n",
              "    </tr>\n",
              "    <tr>\n",
              "      <th>25%</th>\n",
              "      <td>89.000000</td>\n",
              "      <td>2.038000e+04</td>\n",
              "      <td>0.000000</td>\n",
              "      <td>17.000000</td>\n",
              "      <td>2.000000</td>\n",
              "      <td>1.297250e+03</td>\n",
              "    </tr>\n",
              "    <tr>\n",
              "      <th>50%</th>\n",
              "      <td>100.000000</td>\n",
              "      <td>4.784236e+05</td>\n",
              "      <td>0.000000</td>\n",
              "      <td>82.500000</td>\n",
              "      <td>3.000000</td>\n",
              "      <td>1.259100e+04</td>\n",
              "    </tr>\n",
              "    <tr>\n",
              "      <th>75%</th>\n",
              "      <td>114.000000</td>\n",
              "      <td>1.286569e+06</td>\n",
              "      <td>2.000000</td>\n",
              "      <td>264.000000</td>\n",
              "      <td>4.000000</td>\n",
              "      <td>4.798868e+05</td>\n",
              "    </tr>\n",
              "    <tr>\n",
              "      <th>max</th>\n",
              "      <td>180.000000</td>\n",
              "      <td>1.761531e+07</td>\n",
              "      <td>5.000000</td>\n",
              "      <td>869.000000</td>\n",
              "      <td>25.000000</td>\n",
              "      <td>1.426277e+07</td>\n",
              "    </tr>\n",
              "  </tbody>\n",
              "</table>\n",
              "</div>"
            ],
            "text/plain": [
              "             time  dir_prev_bfnum  ...   num_actor   box_off_num\n",
              "count  600.000000    2.700000e+02  ...  600.000000  6.000000e+02\n",
              "mean   100.863333    1.050443e+06  ...    3.706667  7.081818e+05\n",
              "std     18.097528    1.791408e+06  ...    2.446889  1.828006e+06\n",
              "min     45.000000    1.000000e+00  ...    0.000000  1.000000e+00\n",
              "25%     89.000000    2.038000e+04  ...    2.000000  1.297250e+03\n",
              "50%    100.000000    4.784236e+05  ...    3.000000  1.259100e+04\n",
              "75%    114.000000    1.286569e+06  ...    4.000000  4.798868e+05\n",
              "max    180.000000    1.761531e+07  ...   25.000000  1.426277e+07\n",
              "\n",
              "[8 rows x 6 columns]"
            ]
          },
          "metadata": {},
          "execution_count": 38
        }
      ]
    },
    {
      "cell_type": "markdown",
      "source": [
        "**pd.DataFrame.corr['col']**: target변수와의 상관관계 수치화 > 상관관계가 적은 변수를 제외하거나 변형."
      ],
      "metadata": {
        "id": "nCbYg6qvkhRb"
      }
    },
    {
      "cell_type": "code",
      "metadata": {
        "id": "_Y4_OgqnWXlT"
      },
      "source": [
        "corr_matrix = movie_train.corr()"
      ],
      "execution_count": null,
      "outputs": []
    },
    {
      "cell_type": "code",
      "metadata": {
        "colab": {
          "base_uri": "https://localhost:8080/"
        },
        "id": "XOivIaUtm5kK",
        "outputId": "a112d3d5-f04c-4324-e650-045f87950007"
      },
      "source": [
        "corr_matrix['box_off_num'].sort_values()"
      ],
      "execution_count": null,
      "outputs": [
        {
          "output_type": "execute_result",
          "data": {
            "text/plain": [
              "num_actor         0.111179\n",
              "dir_prev_num      0.259674\n",
              "dir_prev_bfnum    0.283184\n",
              "time              0.441452\n",
              "num_staff         0.544265\n",
              "box_off_num       1.000000\n",
              "Name: box_off_num, dtype: float64"
            ]
          },
          "metadata": {},
          "execution_count": 40
        }
      ]
    },
    {
      "cell_type": "code",
      "metadata": {
        "id": "S4UJTaB3myBW"
      },
      "source": [
        "movie_train_set = movie_train.drop('box_off_num', axis=1)\n",
        "movie_target = movie_train['box_off_num'].copy()"
      ],
      "execution_count": null,
      "outputs": []
    },
    {
      "cell_type": "markdown",
      "source": [
        "**sklearn.impute.SimpleImputer(starategy, fill_value)**: 결측치 대체\n",
        "\n",
        "strategy: mean, median, most_frequent, constant\n",
        "\n",
        "fill_value: 대체 방식이 constant일 때, 채워지는 value"
      ],
      "metadata": {
        "id": "uTa_oLDaluRB"
      }
    },
    {
      "cell_type": "code",
      "metadata": {
        "colab": {
          "base_uri": "https://localhost:8080/"
        },
        "id": "7D5-WYfuspFe",
        "outputId": "dfcc62c9-01a8-4551-a07b-045c41eee2ec"
      },
      "source": [
        "from sklearn.impute import SimpleImputer\n",
        "imputer = SimpleImputer(strategy='constant', fill_value=0)\n",
        "imputer.fit_transform(movie_train_set)\n"
      ],
      "execution_count": null,
      "outputs": [
        {
          "output_type": "execute_result",
          "data": {
            "text/plain": [
              "array([['개들의 전쟁', '롯데엔터테인먼트', '액션', ..., 0, 91, 2],\n",
              "       ['내부자들', '(주)쇼박스', '느와르', ..., 2, 387, 3],\n",
              "       ['은밀하게 위대하게', '(주)쇼박스', '액션', ..., 4, 343, 4],\n",
              "       ...,\n",
              "       ['살인의 강', '(주)마운틴픽쳐스', '공포', ..., 0, 123, 4],\n",
              "       ['악의 연대기', 'CJ 엔터테인먼트', '느와르', ..., 0, 431, 4],\n",
              "       ['베를린', 'CJ 엔터테인먼트', '액션', ..., 0, 363, 5]], dtype=object)"
            ]
          },
          "metadata": {},
          "execution_count": 110
        }
      ]
    },
    {
      "cell_type": "code",
      "metadata": {
        "colab": {
          "base_uri": "https://localhost:8080/"
        },
        "id": "cQXj0aWj7dDt",
        "outputId": "b6418dc6-4311-42cf-9ad4-4bc0c5aedaff"
      },
      "source": [
        "movie_train_set.info()"
      ],
      "execution_count": null,
      "outputs": [
        {
          "output_type": "stream",
          "name": "stdout",
          "text": [
            "<class 'pandas.core.frame.DataFrame'>\n",
            "RangeIndex: 600 entries, 0 to 599\n",
            "Data columns (total 11 columns):\n",
            " #   Column          Non-Null Count  Dtype  \n",
            "---  ------          --------------  -----  \n",
            " 0   title           600 non-null    object \n",
            " 1   distributor     600 non-null    object \n",
            " 2   genre           600 non-null    object \n",
            " 3   release_time    600 non-null    object \n",
            " 4   time            600 non-null    int64  \n",
            " 5   screening_rat   600 non-null    object \n",
            " 6   director        600 non-null    object \n",
            " 7   dir_prev_bfnum  270 non-null    float64\n",
            " 8   dir_prev_num    600 non-null    int64  \n",
            " 9   num_staff       600 non-null    int64  \n",
            " 10  num_actor       600 non-null    int64  \n",
            "dtypes: float64(1), int64(4), object(6)\n",
            "memory usage: 51.7+ KB\n"
          ]
        }
      ]
    },
    {
      "cell_type": "markdown",
      "source": [
        "범주형 데이터 처리: 랭크가 없는 문자열 데이터를 0과1로 파싱해 인식."
      ],
      "metadata": {
        "id": "ximTBCdCrLuU"
      }
    },
    {
      "cell_type": "code",
      "metadata": {
        "id": "NgrckN248C-u"
      },
      "source": [
        "from sklearn.preprocessing import OneHotEncoder\n",
        "encoder = OneHotEncoder()\n",
        "\n",
        "genre_train = movie_train_set[['genre']]\n",
        "genre_encoded = encoder.fit_transform(genre_train)\n",
        "\n",
        "screening_rat_train = movie_train_set[['screening_rat']]\n",
        "screening_rat_encoded = encoder.fit_transform(screening_rat_train)\n",
        "\n",
        "distributor_train = movie_train_set[['distributor']]\n",
        "distributor_encoded = encoder.fit_transform(distributor_train)"
      ],
      "execution_count": null,
      "outputs": []
    },
    {
      "cell_type": "code",
      "metadata": {
        "colab": {
          "base_uri": "https://localhost:8080/"
        },
        "id": "kNO-AwClbXMD",
        "outputId": "4f0b3f78-7dc4-452e-878b-9b1b8b541d69"
      },
      "source": [
        "genre_encoded.shape"
      ],
      "execution_count": null,
      "outputs": [
        {
          "output_type": "execute_result",
          "data": {
            "text/plain": [
              "(600, 12)"
            ]
          },
          "metadata": {},
          "execution_count": 67
        }
      ]
    },
    {
      "cell_type": "code",
      "metadata": {
        "colab": {
          "base_uri": "https://localhost:8080/"
        },
        "id": "HiPn3gO-bc5s",
        "outputId": "2714586e-7c4e-4bf8-c2f0-9b16d682eac2"
      },
      "source": [
        "screening_rat_encoded.shape"
      ],
      "execution_count": null,
      "outputs": [
        {
          "output_type": "execute_result",
          "data": {
            "text/plain": [
              "(600, 4)"
            ]
          },
          "metadata": {},
          "execution_count": 68
        }
      ]
    },
    {
      "cell_type": "code",
      "metadata": {
        "colab": {
          "base_uri": "https://localhost:8080/"
        },
        "id": "UCwUBBDK-ATz",
        "outputId": "fcce531e-b593-45e9-b179-9bff193db6d8"
      },
      "source": [
        "genre_train.value_counts()"
      ],
      "execution_count": null,
      "outputs": [
        {
          "output_type": "execute_result",
          "data": {
            "text/plain": [
              "genre \n",
              "드라마       221\n",
              "다큐멘터리      93\n",
              "멜로/로맨스     78\n",
              "코미디        53\n",
              "공포         42\n",
              "액션         28\n",
              "느와르        27\n",
              "애니메이션      21\n",
              "미스터리       17\n",
              "SF         13\n",
              "뮤지컬         5\n",
              "서스펜스        2\n",
              "dtype: int64"
            ]
          },
          "metadata": {},
          "execution_count": 45
        }
      ]
    },
    {
      "cell_type": "code",
      "metadata": {
        "colab": {
          "base_uri": "https://localhost:8080/"
        },
        "id": "QqRGMXlG-Nj6",
        "outputId": "6618111a-4f6e-4a7d-dc4e-6de98eccf98e"
      },
      "source": [
        "screening_rat_train.value_counts()"
      ],
      "execution_count": null,
      "outputs": [
        {
          "output_type": "execute_result",
          "data": {
            "text/plain": [
              "screening_rat\n",
              "청소년 관람불가         204\n",
              "15세 관람가          202\n",
              "12세 관람가          102\n",
              "전체 관람가            92\n",
              "dtype: int64"
            ]
          },
          "metadata": {},
          "execution_count": 46
        }
      ]
    },
    {
      "cell_type": "code",
      "metadata": {
        "id": "RVlxGaOaD0E2"
      },
      "source": [
        "num_feature = ['time','dir_prev_num','num_staff','num_actor']\n",
        "text_feature = ['genre','screening_rat']\n",
        "target = ['box_off_num']\n",
        "num_train, num_test = list(movie_train_set[num_feature]), list(movie_test[num_feature])\n",
        "text_train, text_test = list(movie_train_set[text_feature]), list(movie_test[text_feature])"
      ],
      "execution_count": null,
      "outputs": []
    },
    {
      "cell_type": "code",
      "metadata": {
        "id": "nxG9vstyQwYW"
      },
      "source": [
        "from sklearn.pipeline import Pipeline\n",
        "from sklearn.preprocessing import MinMaxScaler\n",
        "\n",
        "num_pipeline = Pipeline([\n",
        "      ('imputer', SimpleImputer(strategy= 'constant',fill_value=0)),\n",
        "      ('mm_scaler', MinMaxScaler()),\n",
        "])"
      ],
      "execution_count": null,
      "outputs": []
    },
    {
      "cell_type": "code",
      "metadata": {
        "id": "j5xNg4hJBKLu"
      },
      "source": [
        "from sklearn.compose import ColumnTransformer\n",
        "\n",
        "full_pipeline1 = ColumnTransformer([\n",
        "                ('num', num_pipeline, num_train),\n",
        "                ('cat', OneHotEncoder(), text_train),\n",
        "])\n",
        "\n",
        "movie_train_prepared = full_pipeline1.fit_transform(movie_train_set)"
      ],
      "execution_count": null,
      "outputs": []
    },
    {
      "cell_type": "code",
      "source": [
        "movie_train_prepared.shape"
      ],
      "metadata": {
        "colab": {
          "base_uri": "https://localhost:8080/"
        },
        "id": "32MMyMTd44I9",
        "outputId": "ad4f9dff-1545-46bf-c139-70d075053a57"
      },
      "execution_count": null,
      "outputs": [
        {
          "output_type": "execute_result",
          "data": {
            "text/plain": [
              "(600, 20)"
            ]
          },
          "metadata": {},
          "execution_count": 132
        }
      ]
    },
    {
      "cell_type": "code",
      "metadata": {
        "id": "E8JEDL1kCZ0k"
      },
      "source": [
        "full_pipeline2 = ColumnTransformer([\n",
        "                ('num', num_pipeline, num_test),\n",
        "                ('cat', OneHotEncoder(), text_test),\n",
        "])\n",
        "\n",
        "movie_test_prepared = full_pipeline2.fit_transform(movie_test)"
      ],
      "execution_count": null,
      "outputs": []
    },
    {
      "cell_type": "code",
      "metadata": {
        "colab": {
          "base_uri": "https://localhost:8080/"
        },
        "id": "OOD8fBd0Xzj6",
        "outputId": "e2ae99f2-5a65-475e-96bd-b2c38e49b17d"
      },
      "source": [
        "from sklearn.linear_model import LinearRegression\n",
        "lin_reg = LinearRegression()\n",
        "lin_reg.fit(movie_train_prepared, movie_target)"
      ],
      "execution_count": null,
      "outputs": [
        {
          "output_type": "execute_result",
          "data": {
            "text/plain": [
              "LinearRegression(copy_X=True, fit_intercept=True, n_jobs=None, normalize=False)"
            ]
          },
          "metadata": {},
          "execution_count": 10
        }
      ]
    },
    {
      "cell_type": "code",
      "metadata": {
        "colab": {
          "base_uri": "https://localhost:8080/"
        },
        "id": "vk4a8jXZccws",
        "outputId": "07df0d5b-3487-46c3-9fa6-c78e17752f99"
      },
      "source": [
        "from sklearn.metrics import mean_squared_error\n",
        "import numpy as np\n",
        "num_prediction = lin_reg.predict(movie_train_prepared)\n",
        "lin_mse = mean_squared_error(movie_target, num_prediction)\n",
        "lin_rmse = np.sqrt(lin_mse)\n",
        "lin_rmse"
      ],
      "execution_count": null,
      "outputs": [
        {
          "output_type": "execute_result",
          "data": {
            "text/plain": [
              "1491096.9592515712"
            ]
          },
          "metadata": {},
          "execution_count": 12
        }
      ]
    },
    {
      "cell_type": "code",
      "metadata": {
        "colab": {
          "base_uri": "https://localhost:8080/"
        },
        "id": "a9XTQHP-rNUT",
        "outputId": "f569c636-aee6-49b7-d6cf-305e56bde76a"
      },
      "source": [
        "from sklearn.tree import DecisionTreeRegressor\n",
        "\n",
        "tree_reg = DecisionTreeRegressor()\n",
        "tree_reg.fit(movie_train_prepared, movie_target)"
      ],
      "execution_count": null,
      "outputs": [
        {
          "output_type": "execute_result",
          "data": {
            "text/plain": [
              "DecisionTreeRegressor(ccp_alpha=0.0, criterion='mse', max_depth=None,\n",
              "                      max_features=None, max_leaf_nodes=None,\n",
              "                      min_impurity_decrease=0.0, min_impurity_split=None,\n",
              "                      min_samples_leaf=1, min_samples_split=2,\n",
              "                      min_weight_fraction_leaf=0.0, presort='deprecated',\n",
              "                      random_state=None, splitter='best')"
            ]
          },
          "metadata": {},
          "execution_count": 53
        }
      ]
    },
    {
      "cell_type": "code",
      "metadata": {
        "colab": {
          "base_uri": "https://localhost:8080/"
        },
        "id": "HOSYgymKZdDH",
        "outputId": "b6415820-da85-4eeb-9206-928acf5acff8"
      },
      "source": [
        "movie_train_prepared.shape"
      ],
      "execution_count": null,
      "outputs": [
        {
          "output_type": "execute_result",
          "data": {
            "text/plain": [
              "(600, 20)"
            ]
          },
          "metadata": {},
          "execution_count": 72
        }
      ]
    },
    {
      "cell_type": "code",
      "metadata": {
        "colab": {
          "base_uri": "https://localhost:8080/"
        },
        "id": "iQLtsbrDZkcF",
        "outputId": "357e855f-23c2-4529-9a46-83ea0bf63145"
      },
      "source": [
        "movie_test_prepared.shape"
      ],
      "execution_count": null,
      "outputs": [
        {
          "output_type": "execute_result",
          "data": {
            "text/plain": [
              "(243, 20)"
            ]
          },
          "metadata": {},
          "execution_count": 73
        }
      ]
    },
    {
      "cell_type": "code",
      "metadata": {
        "colab": {
          "base_uri": "https://localhost:8080/"
        },
        "id": "zYu1Uo7nt6ZK",
        "outputId": "6efbe47e-9df9-4522-a299-67b1182fc200"
      },
      "source": [
        "from sklearn.ensemble import RandomForestRegressor\n",
        "rdf_reg = RandomForestRegressor()\n",
        "rdf_reg.fit(movie_train_prepared, movie_target)\n",
        "\n",
        "num_prediction = rdf_reg.predict(movie_train_prepared)\n",
        "lin_mse = mean_squared_error(movie_target, num_prediction)\n",
        "lin_rmse = np.sqrt(lin_mse)\n",
        "lin_rmse"
      ],
      "execution_count": null,
      "outputs": [
        {
          "output_type": "execute_result",
          "data": {
            "text/plain": [
              "570686.4102867491"
            ]
          },
          "metadata": {},
          "execution_count": 13
        }
      ]
    },
    {
      "cell_type": "code",
      "metadata": {
        "colab": {
          "base_uri": "https://localhost:8080/"
        },
        "id": "D63Bf0Bwc010",
        "outputId": "1d7af39d-74ba-4b4d-c026-9e2266bcbc4c"
      },
      "source": [
        "from sklearn.ensemble import ExtraTreesRegressor\n",
        "ext_reg = ExtraTreesRegressor()\n",
        "ext_reg.fit(movie_train_prepared, movie_target)\n",
        "\n",
        "num_prediction = ext_reg.predict(movie_train_prepared)\n",
        "lin_mse = mean_squared_error(movie_target, num_prediction)\n",
        "lin_rmse = np.sqrt(lin_mse)\n",
        "lin_rmse"
      ],
      "execution_count": null,
      "outputs": [
        {
          "output_type": "execute_result",
          "data": {
            "text/plain": [
              "11.518137870333033"
            ]
          },
          "metadata": {},
          "execution_count": 14
        }
      ]
    },
    {
      "cell_type": "code",
      "metadata": {
        "id": "VrBdkTU8CBDf"
      },
      "source": [
        "pred = rdf_reg.predict(movie_test_prepared)"
      ],
      "execution_count": null,
      "outputs": []
    },
    {
      "cell_type": "code",
      "metadata": {
        "id": "9l8F8z1uC-N1"
      },
      "source": [
        "submission = pd.read_csv('/content/submission.csv')\n",
        "submission['box_off_num'] = pred"
      ],
      "execution_count": null,
      "outputs": []
    },
    {
      "cell_type": "code",
      "metadata": {
        "id": "ZzxcBwLdJot0"
      },
      "source": [
        "submission.to_csv('submission.csv', index=False)"
      ],
      "execution_count": null,
      "outputs": []
    },
    {
      "cell_type": "code",
      "metadata": {
        "colab": {
          "base_uri": "https://localhost:8080/"
        },
        "id": "9grLwOwpFgjv",
        "outputId": "fe36a0bf-6be2-4fbd-9cd0-052a40cebd83"
      },
      "source": [
        "!pip install dacon_submit_api-0.0.4-py3-none-any.whl"
      ],
      "execution_count": null,
      "outputs": [
        {
          "output_type": "stream",
          "name": "stdout",
          "text": [
            "Processing ./dacon_submit_api-0.0.4-py3-none-any.whl\n",
            "Installing collected packages: dacon-submit-api\n",
            "Successfully installed dacon-submit-api-0.0.4\n"
          ]
        }
      ]
    },
    {
      "cell_type": "code",
      "metadata": {
        "colab": {
          "base_uri": "https://localhost:8080/"
        },
        "id": "l-h1kVCJFi16",
        "outputId": "bba28989-062c-4c60-d3ec-32763131ed33"
      },
      "source": [
        "from dacon_submit_api import dacon_submit_api\n",
        "result = dacon_submit_api.post_submission_file(\n",
        "    '/content/submission.csv',\n",
        "    '5711e82411ea7664453e79326abb1c5edb70299534c286cfb2877394d8def967',\n",
        "    '235536',\n",
        "    'JHPark, 5th trial'\n",
        ")"
      ],
      "execution_count": null,
      "outputs": [
        {
          "output_type": "stream",
          "name": "stdout",
          "text": [
            "{'isSubmitted': True, 'detail': 'Success'}\n"
          ]
        }
      ]
    },
    {
      "cell_type": "markdown",
      "source": [
        "#Ensemble"
      ],
      "metadata": {
        "id": "wIIThtlORwGN"
      }
    },
    {
      "cell_type": "code",
      "source": [
        "import pandas as pd\n",
        "train = pd.read_csv('/content/movies_train.csv')\n",
        "test = pd.read_csv('/content/movies_test.csv')\n"
      ],
      "metadata": {
        "id": "SEi_vVwVVeHp"
      },
      "execution_count": null,
      "outputs": []
    },
    {
      "cell_type": "code",
      "source": [
        "import re\n",
        "train['distributor'] = train.distributor.str.replace('(주)','')\n",
        "test['distributor'] = test.distributor.str.replace('(주)','')\n",
        "\n",
        "train['distributor'] = [re.sub(r'[^0-9a-zA-Z가-힣]','',x) for x in train.distributor]\n",
        "test['distributor'] = [re.sub(r'[^0-9a-zA-Z가-힣]','',x) for x in  test.distributor]"
      ],
      "metadata": {
        "colab": {
          "base_uri": "https://localhost:8080/"
        },
        "id": "QPFau_qdRZqs",
        "outputId": "28f286a4-f916-409e-e335-555181ed71d1"
      },
      "execution_count": null,
      "outputs": [
        {
          "output_type": "stream",
          "name": "stderr",
          "text": [
            "/usr/local/lib/python3.7/dist-packages/ipykernel_launcher.py:2: FutureWarning: The default value of regex will change from True to False in a future version.\n",
            "  \n",
            "/usr/local/lib/python3.7/dist-packages/ipykernel_launcher.py:3: FutureWarning: The default value of regex will change from True to False in a future version.\n",
            "  This is separate from the ipykernel package so we can avoid doing imports until\n"
          ]
        }
      ]
    },
    {
      "cell_type": "code",
      "source": [
        "def get_dis(x):\n",
        "  if 'CJ' in x or 'CGV' in x:\n",
        "    return 'CJ'\n",
        "  elif '쇼박스' in x:\n",
        "    return '쇼박스'\n",
        "  elif 'SK' in x:\n",
        "    return 'SK'\n",
        "  elif '스폰지' in x:\n",
        "    return '스폰지'\n",
        "  elif '리틀빅픽' in x:\n",
        "    return '리틀빅픽처스'\n",
        "  elif '싸이더스' in x:\n",
        "    return '싸이더스'\n",
        "  elif '마운틴픽' in x:\n",
        "    return '마운틱픽처스'\n",
        "  else:\n",
        "    return x"
      ],
      "metadata": {
        "id": "ORL9IzlbWWoF"
      },
      "execution_count": null,
      "outputs": []
    },
    {
      "cell_type": "code",
      "source": [
        "train['distributor'] = train.distributor.apply(get_dis)\n",
        "test['distributor'] = test.distributor.apply(get_dis)\n"
      ],
      "metadata": {
        "id": "ue_Wd6HhZZqw"
      },
      "execution_count": null,
      "outputs": []
    },
    {
      "cell_type": "code",
      "source": [
        "genre_dict={}\n",
        "sorted_genre_list = train.groupby('genre').box_off_num.mean().sort_values().index\n",
        "for i, genre in enumerate(sorted_genre_list):\n",
        "  genre_dict[genre] = i+1"
      ],
      "metadata": {
        "id": "DN6b_SmBaJiS"
      },
      "execution_count": null,
      "outputs": []
    },
    {
      "cell_type": "code",
      "source": [
        "genre_dict"
      ],
      "metadata": {
        "colab": {
          "base_uri": "https://localhost:8080/"
        },
        "id": "hE9Tby6sfc8X",
        "outputId": "b7b5638c-e24b-4103-8469-b42485a85219"
      },
      "execution_count": null,
      "outputs": [
        {
          "output_type": "execute_result",
          "data": {
            "text/plain": [
              "{'SF': 10,\n",
              " '공포': 7,\n",
              " '느와르': 12,\n",
              " '다큐멘터리': 2,\n",
              " '드라마': 8,\n",
              " '멜로/로맨스': 5,\n",
              " '뮤지컬': 1,\n",
              " '미스터리': 6,\n",
              " '서스펜스': 3,\n",
              " '애니메이션': 4,\n",
              " '액션': 11,\n",
              " '코미디': 9}"
            ]
          },
          "metadata": {},
          "execution_count": 73
        }
      ]
    },
    {
      "cell_type": "code",
      "source": [
        "train['genre'] = train.genre.map(genre_dict)\n",
        "test['genre'] = test.genre.map(genre_dict)"
      ],
      "metadata": {
        "id": "q5jeaxY-gGfQ"
      },
      "execution_count": null,
      "outputs": []
    },
    {
      "cell_type": "code",
      "source": [
        "distributor_dict={}\n",
        "sorted_distributor_list = train.groupby('distributor').box_off_num.median().sort_values().index\n",
        "for i, distributor in enumerate(sorted_distributor_list):\n",
        "  distributor_dict[distributor] = i+1\n"
      ],
      "metadata": {
        "id": "BOff0wk6g6hu"
      },
      "execution_count": null,
      "outputs": []
    },
    {
      "cell_type": "code",
      "source": [
        "train['distributor'] = train.distributor.map(distributor_dict)\n",
        "test['distributor'] = test.distributor.map(distributor_dict)"
      ],
      "metadata": {
        "id": "GYmMZPDLh3kN"
      },
      "execution_count": null,
      "outputs": []
    },
    {
      "cell_type": "code",
      "source": [
        "train.head()"
      ],
      "metadata": {
        "colab": {
          "base_uri": "https://localhost:8080/",
          "height": 444
        },
        "id": "xGzBVZ8Nh-dh",
        "outputId": "74b594d1-86dc-413f-a6b8-4129327c488d"
      },
      "execution_count": null,
      "outputs": [
        {
          "output_type": "execute_result",
          "data": {
            "text/plain": [
              "       title  distributor  genre release_time  time screening_rat director  \\\n",
              "0     개들의 전쟁          134     11   2012-11-22    96      청소년 관람불가      조병옥   \n",
              "1       내부자들          145     12   2015-11-19   130      청소년 관람불가      우민호   \n",
              "2  은밀하게 위대하게          145     11   2013-06-05   123       15세 관람가      장철수   \n",
              "3   나는 공무원이다          140      9   2012-07-12   101        전체 관람가      구자홍   \n",
              "4       불량남녀          145      9   2010-11-04   108       15세 관람가      신근호   \n",
              "\n",
              "   dir_prev_bfnum  dir_prev_num  num_staff  num_actor  box_off_num  \\\n",
              "0             NaN             0         91          2        23398   \n",
              "1      1161602.50             2        387          3      7072501   \n",
              "2       220775.25             4        343          4      6959083   \n",
              "3        23894.00             2         20          6       217866   \n",
              "4            1.00             1        251          2       483387   \n",
              "\n",
              "  release_year  \n",
              "0         2012  \n",
              "1         2015  \n",
              "2         2013  \n",
              "3         2012  \n",
              "4         2010  "
            ],
            "text/html": [
              "\n",
              "  <div id=\"df-9e91e00a-7992-422c-bf26-903169867169\">\n",
              "    <div class=\"colab-df-container\">\n",
              "      <div>\n",
              "<style scoped>\n",
              "    .dataframe tbody tr th:only-of-type {\n",
              "        vertical-align: middle;\n",
              "    }\n",
              "\n",
              "    .dataframe tbody tr th {\n",
              "        vertical-align: top;\n",
              "    }\n",
              "\n",
              "    .dataframe thead th {\n",
              "        text-align: right;\n",
              "    }\n",
              "</style>\n",
              "<table border=\"1\" class=\"dataframe\">\n",
              "  <thead>\n",
              "    <tr style=\"text-align: right;\">\n",
              "      <th></th>\n",
              "      <th>title</th>\n",
              "      <th>distributor</th>\n",
              "      <th>genre</th>\n",
              "      <th>release_time</th>\n",
              "      <th>time</th>\n",
              "      <th>screening_rat</th>\n",
              "      <th>director</th>\n",
              "      <th>dir_prev_bfnum</th>\n",
              "      <th>dir_prev_num</th>\n",
              "      <th>num_staff</th>\n",
              "      <th>num_actor</th>\n",
              "      <th>box_off_num</th>\n",
              "      <th>release_year</th>\n",
              "    </tr>\n",
              "  </thead>\n",
              "  <tbody>\n",
              "    <tr>\n",
              "      <th>0</th>\n",
              "      <td>개들의 전쟁</td>\n",
              "      <td>134</td>\n",
              "      <td>11</td>\n",
              "      <td>2012-11-22</td>\n",
              "      <td>96</td>\n",
              "      <td>청소년 관람불가</td>\n",
              "      <td>조병옥</td>\n",
              "      <td>NaN</td>\n",
              "      <td>0</td>\n",
              "      <td>91</td>\n",
              "      <td>2</td>\n",
              "      <td>23398</td>\n",
              "      <td>2012</td>\n",
              "    </tr>\n",
              "    <tr>\n",
              "      <th>1</th>\n",
              "      <td>내부자들</td>\n",
              "      <td>145</td>\n",
              "      <td>12</td>\n",
              "      <td>2015-11-19</td>\n",
              "      <td>130</td>\n",
              "      <td>청소년 관람불가</td>\n",
              "      <td>우민호</td>\n",
              "      <td>1161602.50</td>\n",
              "      <td>2</td>\n",
              "      <td>387</td>\n",
              "      <td>3</td>\n",
              "      <td>7072501</td>\n",
              "      <td>2015</td>\n",
              "    </tr>\n",
              "    <tr>\n",
              "      <th>2</th>\n",
              "      <td>은밀하게 위대하게</td>\n",
              "      <td>145</td>\n",
              "      <td>11</td>\n",
              "      <td>2013-06-05</td>\n",
              "      <td>123</td>\n",
              "      <td>15세 관람가</td>\n",
              "      <td>장철수</td>\n",
              "      <td>220775.25</td>\n",
              "      <td>4</td>\n",
              "      <td>343</td>\n",
              "      <td>4</td>\n",
              "      <td>6959083</td>\n",
              "      <td>2013</td>\n",
              "    </tr>\n",
              "    <tr>\n",
              "      <th>3</th>\n",
              "      <td>나는 공무원이다</td>\n",
              "      <td>140</td>\n",
              "      <td>9</td>\n",
              "      <td>2012-07-12</td>\n",
              "      <td>101</td>\n",
              "      <td>전체 관람가</td>\n",
              "      <td>구자홍</td>\n",
              "      <td>23894.00</td>\n",
              "      <td>2</td>\n",
              "      <td>20</td>\n",
              "      <td>6</td>\n",
              "      <td>217866</td>\n",
              "      <td>2012</td>\n",
              "    </tr>\n",
              "    <tr>\n",
              "      <th>4</th>\n",
              "      <td>불량남녀</td>\n",
              "      <td>145</td>\n",
              "      <td>9</td>\n",
              "      <td>2010-11-04</td>\n",
              "      <td>108</td>\n",
              "      <td>15세 관람가</td>\n",
              "      <td>신근호</td>\n",
              "      <td>1.00</td>\n",
              "      <td>1</td>\n",
              "      <td>251</td>\n",
              "      <td>2</td>\n",
              "      <td>483387</td>\n",
              "      <td>2010</td>\n",
              "    </tr>\n",
              "  </tbody>\n",
              "</table>\n",
              "</div>\n",
              "      <button class=\"colab-df-convert\" onclick=\"convertToInteractive('df-9e91e00a-7992-422c-bf26-903169867169')\"\n",
              "              title=\"Convert this dataframe to an interactive table.\"\n",
              "              style=\"display:none;\">\n",
              "        \n",
              "  <svg xmlns=\"http://www.w3.org/2000/svg\" height=\"24px\"viewBox=\"0 0 24 24\"\n",
              "       width=\"24px\">\n",
              "    <path d=\"M0 0h24v24H0V0z\" fill=\"none\"/>\n",
              "    <path d=\"M18.56 5.44l.94 2.06.94-2.06 2.06-.94-2.06-.94-.94-2.06-.94 2.06-2.06.94zm-11 1L8.5 8.5l.94-2.06 2.06-.94-2.06-.94L8.5 2.5l-.94 2.06-2.06.94zm10 10l.94 2.06.94-2.06 2.06-.94-2.06-.94-.94-2.06-.94 2.06-2.06.94z\"/><path d=\"M17.41 7.96l-1.37-1.37c-.4-.4-.92-.59-1.43-.59-.52 0-1.04.2-1.43.59L10.3 9.45l-7.72 7.72c-.78.78-.78 2.05 0 2.83L4 21.41c.39.39.9.59 1.41.59.51 0 1.02-.2 1.41-.59l7.78-7.78 2.81-2.81c.8-.78.8-2.07 0-2.86zM5.41 20L4 18.59l7.72-7.72 1.47 1.35L5.41 20z\"/>\n",
              "  </svg>\n",
              "      </button>\n",
              "      \n",
              "  <style>\n",
              "    .colab-df-container {\n",
              "      display:flex;\n",
              "      flex-wrap:wrap;\n",
              "      gap: 12px;\n",
              "    }\n",
              "\n",
              "    .colab-df-convert {\n",
              "      background-color: #E8F0FE;\n",
              "      border: none;\n",
              "      border-radius: 50%;\n",
              "      cursor: pointer;\n",
              "      display: none;\n",
              "      fill: #1967D2;\n",
              "      height: 32px;\n",
              "      padding: 0 0 0 0;\n",
              "      width: 32px;\n",
              "    }\n",
              "\n",
              "    .colab-df-convert:hover {\n",
              "      background-color: #E2EBFA;\n",
              "      box-shadow: 0px 1px 2px rgba(60, 64, 67, 0.3), 0px 1px 3px 1px rgba(60, 64, 67, 0.15);\n",
              "      fill: #174EA6;\n",
              "    }\n",
              "\n",
              "    [theme=dark] .colab-df-convert {\n",
              "      background-color: #3B4455;\n",
              "      fill: #D2E3FC;\n",
              "    }\n",
              "\n",
              "    [theme=dark] .colab-df-convert:hover {\n",
              "      background-color: #434B5C;\n",
              "      box-shadow: 0px 1px 3px 1px rgba(0, 0, 0, 0.15);\n",
              "      filter: drop-shadow(0px 1px 2px rgba(0, 0, 0, 0.3));\n",
              "      fill: #FFFFFF;\n",
              "    }\n",
              "  </style>\n",
              "\n",
              "      <script>\n",
              "        const buttonEl =\n",
              "          document.querySelector('#df-9e91e00a-7992-422c-bf26-903169867169 button.colab-df-convert');\n",
              "        buttonEl.style.display =\n",
              "          google.colab.kernel.accessAllowed ? 'block' : 'none';\n",
              "\n",
              "        async function convertToInteractive(key) {\n",
              "          const element = document.querySelector('#df-9e91e00a-7992-422c-bf26-903169867169');\n",
              "          const dataTable =\n",
              "            await google.colab.kernel.invokeFunction('convertToInteractive',\n",
              "                                                     [key], {});\n",
              "          if (!dataTable) return;\n",
              "\n",
              "          const docLinkHtml = 'Like what you see? Visit the ' +\n",
              "            '<a target=\"_blank\" href=https://colab.research.google.com/notebooks/data_table.ipynb>data table notebook</a>'\n",
              "            + ' to learn more about interactive tables.';\n",
              "          element.innerHTML = '';\n",
              "          dataTable['output_type'] = 'display_data';\n",
              "          await google.colab.output.renderOutput(dataTable, element);\n",
              "          const docLink = document.createElement('div');\n",
              "          docLink.innerHTML = docLinkHtml;\n",
              "          element.appendChild(docLink);\n",
              "        }\n",
              "      </script>\n",
              "    </div>\n",
              "  </div>\n",
              "  "
            ]
          },
          "metadata": {},
          "execution_count": 81
        }
      ]
    },
    {
      "cell_type": "code",
      "source": [
        "train['release_year'] = train['release_time'].str.split('-').str[0]\n",
        "train['release_year'] = train['release_year'].astype(int)\n",
        "test['release_year'] = test['release_time'].str.split('-').str[0]\n",
        "test['release_year'] = test['release_year'].astype(int)"
      ],
      "metadata": {
        "id": "N-8rGMF4wd3m"
      },
      "execution_count": null,
      "outputs": []
    },
    {
      "cell_type": "code",
      "source": [
        "train.fillna(0, inplace=True)\n",
        "test.fillna(0, inplace=True)"
      ],
      "metadata": {
        "id": "B_vujAt29MTR"
      },
      "execution_count": null,
      "outputs": []
    },
    {
      "cell_type": "code",
      "source": [
        "train['box_off_num'] = np.log1p(train['box_off_num'])"
      ],
      "metadata": {
        "id": "zTDdShQ25UKn"
      },
      "execution_count": null,
      "outputs": []
    },
    {
      "cell_type": "code",
      "source": [
        "feature = ['distributor','genre','time','dir_prev_bfnum','dir_prev_num','num_staff','num_actor','screening_rat']\n",
        "target = train['box_off_num']\n",
        "train = train[feature]        \n",
        "test = test[feature]"
      ],
      "metadata": {
        "id": "PQRulqyO95v9"
      },
      "execution_count": null,
      "outputs": []
    },
    {
      "cell_type": "code",
      "source": [
        "train = pd.get_dummies(columns=['screening_rat'], data = train)\n",
        "test = pd.get_dummies(columns=['screening_rat'], data = test)"
      ],
      "metadata": {
        "id": "nDcR4HabANqy"
      },
      "execution_count": null,
      "outputs": []
    },
    {
      "cell_type": "code",
      "source": [
        "import matplotlib.pyplot as plt\n",
        "plt.bar(train['num_actor'].unique() ,train['num_actor'].value_counts())"
      ],
      "metadata": {
        "colab": {
          "base_uri": "https://localhost:8080/",
          "height": 286
        },
        "id": "p6VvInl0z6p1",
        "outputId": "f0894ebb-2060-4b24-ca5c-71c079438faa"
      },
      "execution_count": null,
      "outputs": [
        {
          "output_type": "execute_result",
          "data": {
            "text/plain": [
              "<BarContainer object of 17 artists>"
            ]
          },
          "metadata": {},
          "execution_count": 85
        },
        {
          "output_type": "display_data",
          "data": {
            "text/plain": [
              "<Figure size 432x288 with 1 Axes>"
            ],
            "image/png": "[encoded data removed]"
          },
          "metadata": {
            "needs_background": "light"
          }
        }
      ]
    },
    {
      "cell_type": "code",
      "source": [
        "target.describe()\n"
      ],
      "metadata": {
        "colab": {
          "base_uri": "https://localhost:8080/"
        },
        "id": "NhQqoFXy1WMy",
        "outputId": "ebcf1682-98b0-42e8-b1dd-4a724f642dc8"
      },
      "execution_count": null,
      "outputs": [
        {
          "output_type": "execute_result",
          "data": {
            "text/plain": [
              "count    600.000000\n",
              "mean       9.951971\n",
              "std        3.315230\n",
              "min        0.693147\n",
              "25%        7.168772\n",
              "50%        9.440782\n",
              "75%       13.081305\n",
              "max       16.473163\n",
              "Name: box_off_num, dtype: float64"
            ]
          },
          "metadata": {},
          "execution_count": 124
        }
      ]
    },
    {
      "cell_type": "code",
      "source": [
        "import numpy as np\n",
        "train['num_actor']= np.log1p(train['num_actor'])\n",
        "test['num_actor']= np.log1p(test['num_actor'])"
      ],
      "metadata": {
        "id": "Fxc4pS9NyJM4"
      },
      "execution_count": null,
      "outputs": []
    },
    {
      "cell_type": "code",
      "source": [
        "train.info()"
      ],
      "metadata": {
        "colab": {
          "base_uri": "https://localhost:8080/"
        },
        "id": "8Aj19bhR92H7",
        "outputId": "0f841fa1-85f0-4e9d-efb4-4594166ab70b"
      },
      "execution_count": null,
      "outputs": [
        {
          "output_type": "stream",
          "name": "stdout",
          "text": [
            "<class 'pandas.core.frame.DataFrame'>\n",
            "RangeIndex: 600 entries, 0 to 599\n",
            "Data columns (total 11 columns):\n",
            " #   Column                  Non-Null Count  Dtype  \n",
            "---  ------                  --------------  -----  \n",
            " 0   distributor             600 non-null    int64  \n",
            " 1   genre                   600 non-null    int64  \n",
            " 2   time                    600 non-null    int64  \n",
            " 3   dir_prev_bfnum          600 non-null    float64\n",
            " 4   dir_prev_num            600 non-null    int64  \n",
            " 5   num_staff               600 non-null    int64  \n",
            " 6   num_actor               600 non-null    float64\n",
            " 7   screening_rat_12세 관람가   600 non-null    uint8  \n",
            " 8   screening_rat_15세 관람가   600 non-null    uint8  \n",
            " 9   screening_rat_전체 관람가    600 non-null    uint8  \n",
            " 10  screening_rat_청소년 관람불가  600 non-null    uint8  \n",
            "dtypes: float64(2), int64(5), uint8(4)\n",
            "memory usage: 35.3 KB\n"
          ]
        }
      ]
    },
    {
      "cell_type": "code",
      "source": [
        "corr_matrix = train.corr()\n",
        "corr_matrix['box_off_num'].sort_values()"
      ],
      "metadata": {
        "id": "1CKTgc3l-KVU"
      },
      "execution_count": null,
      "outputs": []
    },
    {
      "cell_type": "code",
      "source": [
        "pip install catboost\n"
      ],
      "metadata": {
        "colab": {
          "base_uri": "https://localhost:8080/"
        },
        "id": "9M1Tg8SVnWa8",
        "outputId": "78a8f1b8-9a43-4da5-fa57-d659643679bd"
      },
      "execution_count": null,
      "outputs": [
        {
          "output_type": "stream",
          "name": "stdout",
          "text": [
            "Collecting catboost\n",
            "  Downloading catboost-1.0.5-cp37-none-manylinux1_x86_64.whl (76.6 MB)\n",
            "\u001b[K     |████████████████████████████████| 76.6 MB 55 kB/s \n",
            "\u001b[?25hRequirement already satisfied: scipy in /usr/local/lib/python3.7/dist-packages (from catboost) (1.4.1)\n",
            "Requirement already satisfied: numpy>=1.16.0 in /usr/local/lib/python3.7/dist-packages (from catboost) (1.21.6)\n",
            "Requirement already satisfied: matplotlib in /usr/local/lib/python3.7/dist-packages (from catboost) (3.2.2)\n",
            "Requirement already satisfied: plotly in /usr/local/lib/python3.7/dist-packages (from catboost) (5.5.0)\n",
            "Requirement already satisfied: six in /usr/local/lib/python3.7/dist-packages (from catboost) (1.15.0)\n",
            "Requirement already satisfied: graphviz in /usr/local/lib/python3.7/dist-packages (from catboost) (0.10.1)\n",
            "Requirement already satisfied: pandas>=0.24.0 in /usr/local/lib/python3.7/dist-packages (from catboost) (1.3.5)\n",
            "Requirement already satisfied: python-dateutil>=2.7.3 in /usr/local/lib/python3.7/dist-packages (from pandas>=0.24.0->catboost) (2.8.2)\n",
            "Requirement already satisfied: pytz>=2017.3 in /usr/local/lib/python3.7/dist-packages (from pandas>=0.24.0->catboost) (2022.1)\n",
            "Requirement already satisfied: kiwisolver>=1.0.1 in /usr/local/lib/python3.7/dist-packages (from matplotlib->catboost) (1.4.2)\n",
            "Requirement already satisfied: pyparsing!=2.0.4,!=2.1.2,!=2.1.6,>=2.0.1 in /usr/local/lib/python3.7/dist-packages (from matplotlib->catboost) (3.0.8)\n",
            "Requirement already satisfied: cycler>=0.10 in /usr/local/lib/python3.7/dist-packages (from matplotlib->catboost) (0.11.0)\n",
            "Requirement already satisfied: typing-extensions in /usr/local/lib/python3.7/dist-packages (from kiwisolver>=1.0.1->matplotlib->catboost) (4.1.1)\n",
            "Requirement already satisfied: tenacity>=6.2.0 in /usr/local/lib/python3.7/dist-packages (from plotly->catboost) (8.0.1)\n",
            "Installing collected packages: catboost\n",
            "Successfully installed catboost-1.0.5\n"
          ]
        }
      ]
    },
    {
      "cell_type": "code",
      "source": [
        "pip install ngboost\n"
      ],
      "metadata": {
        "id": "Yy_yxuhGoQJk"
      },
      "execution_count": null,
      "outputs": []
    },
    {
      "cell_type": "code",
      "source": [
        "from sklearn.ensemble import GradientBoostingRegressor, RandomForestRegressor\n",
        "from xgboost import XGBRegressor\n",
        "from lightgbm import LGBMRegressor\n",
        "from catboost import CatBoostRegressor\n",
        "from sklearn.metrics import mean_squared_error\n",
        "from sklearn.model_selection import KFold\n",
        "from ngboost import NGBRegressor"
      ],
      "metadata": {
        "id": "FlcJBU8zerwg"
      },
      "execution_count": null,
      "outputs": []
    },
    {
      "cell_type": "code",
      "source": [
        "kf = KFold(n_splits = 10, shuffle = True, random_state=1)\n"
      ],
      "metadata": {
        "id": "Om3c1uyYownr"
      },
      "execution_count": null,
      "outputs": []
    },
    {
      "cell_type": "code",
      "source": [
        "gbr = GradientBoostingRegressor(random_state=2)\n",
        "rmse_list = []\n",
        "gbr_pred = np.zeros((test.shape[0]))\n",
        "for tr_idx, val_idx in kf.split(train, target):\n",
        "  tr_x, tr_y = train.iloc[tr_idx], target.iloc[tr_idx]\n",
        "  val_x, val_y = train.iloc[val_idx], target.iloc[val_idx]\n",
        "\n",
        "  gbr.fit(tr_x, tr_y)\n",
        "\n",
        "  pred = np.expm1([0 if y<0 else y for y in gbr.predict(val_x)])\n",
        "  sub_pred = np.expm1([0 if y<0 else y for y in gbr.predict(test)])\n",
        "  rmse = np.sqrt(mean_squared_error(val_y, pred))\n",
        "\n",
        "  rmse_list.append(rmse)\n",
        "\n",
        "  gbr_pred += (sub_pred /10)\n"
      ],
      "metadata": {
        "id": "RJTFqH_BpU1F"
      },
      "execution_count": null,
      "outputs": []
    },
    {
      "cell_type": "code",
      "source": [
        "np.mean(rmse_list)"
      ],
      "metadata": {
        "colab": {
          "base_uri": "https://localhost:8080/"
        },
        "id": "HR6M5JQBx1WO",
        "outputId": "21d0185d-04f9-48c5-f4f0-80334076502b"
      },
      "execution_count": null,
      "outputs": [
        {
          "output_type": "execute_result",
          "data": {
            "text/plain": [
              "1118672.0747289346"
            ]
          },
          "metadata": {},
          "execution_count": 130
        }
      ]
    },
    {
      "cell_type": "code",
      "source": [
        "ngb = NGBRegressor(random_state = 518)"
      ],
      "metadata": {
        "id": "osF1rdlY3vFr"
      },
      "execution_count": null,
      "outputs": []
    },
    {
      "cell_type": "code",
      "source": [
        "rmse_list = []\n",
        "ngb_pred = np.zeros((test.shape[0]))\n",
        "for tr_idx, val_idx in kf.split(train, target) :\n",
        "    tr_x, tr_y = train.iloc[tr_idx], target.iloc[tr_idx]\n",
        "    val_x, val_y = train.iloc[val_idx], target.iloc[val_idx]\n",
        "    \n",
        "    ngb.fit(tr_x, tr_y)\n",
        "    \n",
        "    pred = np.expm1([0 if y < 0 else y for y in ngb.predict(val_x)])\n",
        "    sub_pred = np.expm1([0 if y < 0 else y for y in ngb.predict(test)])\n",
        "    rmse = np.sqrt(mean_squared_error(val_y, pred))\n",
        "    \n",
        "    rmse_list.append(rmse)\n",
        "    \n",
        "    ngb_pred += (sub_pred / 10)"
      ],
      "metadata": {
        "colab": {
          "base_uri": "https://localhost:8080/"
        },
        "id": "EnzaQl5G3wa6",
        "outputId": "1cf47c5b-9404-4ac7-adc6-2e685daf340f"
      },
      "execution_count": null,
      "outputs": [
        {
          "output_type": "stream",
          "name": "stdout",
          "text": [
            "[iter 0] loss=1.3443 val_loss=0.0000 scale=1.0000 norm=1.0126\n",
            "[iter 100] loss=1.3108 val_loss=0.0000 scale=0.2500 norm=0.2491\n",
            "[iter 200] loss=1.2770 val_loss=0.0000 scale=1.0000 norm=0.9805\n",
            "[iter 300] loss=1.2416 val_loss=0.0000 scale=1.0000 norm=0.9631\n",
            "[iter 400] loss=1.2116 val_loss=0.0000 scale=0.5000 norm=0.4740\n",
            "[iter 0] loss=1.2918 val_loss=0.0000 scale=1.0000 norm=1.0314\n",
            "[iter 100] loss=1.1894 val_loss=0.0000 scale=1.0000 norm=0.9375\n",
            "[iter 200] loss=1.1828 val_loss=0.0000 scale=0.0312 norm=0.0292\n",
            "[iter 300] loss=1.1819 val_loss=0.0000 scale=0.0078 norm=0.0073\n",
            "[iter 400] loss=1.1817 val_loss=0.0000 scale=0.0020 norm=0.0018\n",
            "[iter 0] loss=1.1867 val_loss=0.0000 scale=0.5000 norm=0.4671\n",
            "[iter 100] loss=1.1545 val_loss=0.0000 scale=0.5000 norm=0.4526\n",
            "[iter 200] loss=1.1367 val_loss=0.0000 scale=0.0156 norm=0.0140\n",
            "[iter 300] loss=1.1357 val_loss=0.0000 scale=0.0039 norm=0.0035\n",
            "[iter 400] loss=1.1354 val_loss=0.0000 scale=0.0020 norm=0.0017\n",
            "[iter 0] loss=1.1509 val_loss=0.0000 scale=0.5000 norm=0.4553\n",
            "[iter 100] loss=1.1168 val_loss=0.0000 scale=0.5000 norm=0.4448\n",
            "[iter 200] loss=1.0904 val_loss=0.0000 scale=0.5000 norm=0.4374\n",
            "[iter 300] loss=1.0722 val_loss=0.0000 scale=0.5000 norm=0.4319\n",
            "[iter 400] loss=1.0560 val_loss=0.0000 scale=2.0000 norm=1.7107\n",
            "[iter 0] loss=1.1597 val_loss=0.0000 scale=1.0000 norm=0.9585\n",
            "[iter 100] loss=1.0442 val_loss=0.0000 scale=1.0000 norm=0.8518\n",
            "[iter 200] loss=1.0175 val_loss=0.0000 scale=0.2500 norm=0.2090\n",
            "[iter 300] loss=1.0004 val_loss=0.0000 scale=0.5000 norm=0.4134\n",
            "[iter 400] loss=0.9860 val_loss=0.0000 scale=0.2500 norm=0.2052\n",
            "[iter 0] loss=1.0018 val_loss=0.0000 scale=1.0000 norm=0.8497\n",
            "[iter 100] loss=0.9315 val_loss=0.0000 scale=0.5000 norm=0.3964\n",
            "[iter 200] loss=0.8995 val_loss=0.0000 scale=1.0000 norm=0.7764\n",
            "[iter 300] loss=0.8746 val_loss=0.0000 scale=0.5000 norm=0.3822\n",
            "[iter 400] loss=0.8553 val_loss=0.0000 scale=0.5000 norm=0.3782\n",
            "[iter 0] loss=0.8867 val_loss=0.0000 scale=1.0000 norm=0.7973\n",
            "[iter 100] loss=0.8428 val_loss=0.0000 scale=0.2500 norm=0.1904\n",
            "[iter 200] loss=0.8253 val_loss=0.0000 scale=0.5000 norm=0.3764\n",
            "[iter 300] loss=0.8085 val_loss=0.0000 scale=0.2500 norm=0.1868\n",
            "[iter 400] loss=0.7974 val_loss=0.0000 scale=1.0000 norm=0.7444\n",
            "[iter 0] loss=0.8338 val_loss=0.0000 scale=0.5000 norm=0.3884\n",
            "[iter 100] loss=0.8093 val_loss=0.0000 scale=0.5000 norm=0.3758\n",
            "[iter 200] loss=0.7905 val_loss=0.0000 scale=0.2500 norm=0.1841\n",
            "[iter 300] loss=0.7695 val_loss=0.0000 scale=0.2500 norm=0.1811\n",
            "[iter 400] loss=0.7547 val_loss=0.0000 scale=1.0000 norm=0.7169\n",
            "[iter 0] loss=0.7600 val_loss=0.0000 scale=0.5000 norm=0.3623\n",
            "[iter 100] loss=0.7336 val_loss=0.0000 scale=0.5000 norm=0.3540\n",
            "[iter 200] loss=0.7111 val_loss=0.0000 scale=1.0000 norm=0.6978\n",
            "[iter 300] loss=0.6873 val_loss=0.0000 scale=1.0000 norm=0.6902\n",
            "[iter 400] loss=0.6649 val_loss=0.0000 scale=0.5000 norm=0.3410\n",
            "[iter 0] loss=0.7025 val_loss=0.0000 scale=0.5000 norm=0.3590\n",
            "[iter 100] loss=0.6728 val_loss=0.0000 scale=0.5000 norm=0.3454\n",
            "[iter 200] loss=0.6523 val_loss=0.0000 scale=0.5000 norm=0.3396\n",
            "[iter 300] loss=0.6394 val_loss=0.0000 scale=0.1250 norm=0.0841\n",
            "[iter 400] loss=0.6271 val_loss=0.0000 scale=0.5000 norm=0.3334\n"
          ]
        }
      ]
    },
    {
      "cell_type": "code",
      "source": [
        "np.mean(rmse_list)"
      ],
      "metadata": {
        "colab": {
          "base_uri": "https://localhost:8080/"
        },
        "id": "3INBDYGk6dlL",
        "outputId": "81f534ec-7c2a-465a-9ae0-2c2010107ccb"
      },
      "execution_count": null,
      "outputs": [
        {
          "output_type": "execute_result",
          "data": {
            "text/plain": [
              "1299480.332367676"
            ]
          },
          "metadata": {},
          "execution_count": 134
        }
      ]
    },
    {
      "cell_type": "code",
      "source": [
        "lgbm = LGBMRegressor(random_state = 43)"
      ],
      "metadata": {
        "id": "Tf5StRgP6gcI"
      },
      "execution_count": null,
      "outputs": []
    },
    {
      "cell_type": "code",
      "source": [
        "rmse_list = []\n",
        "lgbm_pred = np.zeros((test.shape[0]))\n",
        "for tr_idx, val_idx in kf.split(train, target) :\n",
        "    tr_x, tr_y = train.iloc[tr_idx], target.iloc[tr_idx]\n",
        "    val_x, val_y = train.iloc[val_idx], target.iloc[val_idx]\n",
        "    \n",
        "    lgbm.fit(tr_x, tr_y)\n",
        "    \n",
        "    pred = np.expm1([0 if y < 0 else y for y in ngb.predict(val_x)])\n",
        "    sub_pred = np.expm1([0 if y < 0 else y for y in ngb.predict(test)])\n",
        "    rmse = np.sqrt(mean_squared_error(val_y, pred))\n",
        "    \n",
        "    rmse_list.append(rmse)\n",
        "    \n",
        "    lgbm_pred += (sub_pred / 10)"
      ],
      "metadata": {
        "id": "SXC8fg766_uc"
      },
      "execution_count": null,
      "outputs": []
    },
    {
      "cell_type": "code",
      "source": [
        "np.mean(rmse_list)"
      ],
      "metadata": {
        "colab": {
          "base_uri": "https://localhost:8080/"
        },
        "id": "QMT5x3PY7P0z",
        "outputId": "2f616674-78ad-452c-d7f2-08c1abae8387"
      },
      "execution_count": null,
      "outputs": [
        {
          "output_type": "execute_result",
          "data": {
            "text/plain": [
              "1376931.6500214536"
            ]
          },
          "metadata": {},
          "execution_count": 138
        }
      ]
    },
    {
      "cell_type": "code",
      "source": [
        "cat = CatBoostRegressor(random_state = 518, silent = True)"
      ],
      "metadata": {
        "id": "ndhiLd5Z7Wii"
      },
      "execution_count": null,
      "outputs": []
    },
    {
      "cell_type": "code",
      "source": [
        "rmse_list = []\n",
        "cat_pred = np.zeros((test.shape[0]))\n",
        "for tr_idx, val_idx in kf.split(train, target) :\n",
        "    tr_x, tr_y = train.iloc[tr_idx], target.iloc[tr_idx]\n",
        "    val_x, val_y = train.iloc[val_idx], target.iloc[val_idx]\n",
        "    \n",
        "    cat.fit(tr_x, tr_y)\n",
        "    \n",
        "    pred = np.expm1([0 if y < 0 else y for y in ngb.predict(val_x)])\n",
        "    sub_pred = np.expm1([0 if y < 0 else y for y in ngb.predict(test)])\n",
        "    rmse = np.sqrt(mean_squared_error(val_y, pred))\n",
        "    \n",
        "    rmse_list.append(rmse)\n",
        "    \n",
        "    cat_pred += (sub_pred / 10)"
      ],
      "metadata": {
        "id": "Tl-K3Sv97YMJ"
      },
      "execution_count": null,
      "outputs": []
    },
    {
      "cell_type": "code",
      "source": [
        "np.mean(rmse_list)"
      ],
      "metadata": {
        "colab": {
          "base_uri": "https://localhost:8080/"
        },
        "id": "Jn-M7sJa7iux",
        "outputId": "e020157e-74dd-4b59-9f62-4d750fa3f78f"
      },
      "execution_count": null,
      "outputs": [
        {
          "output_type": "execute_result",
          "data": {
            "text/plain": [
              "1376931.6500214536"
            ]
          },
          "metadata": {},
          "execution_count": 141
        }
      ]
    },
    {
      "cell_type": "code",
      "source": [
        "submission = pd.read_csv('/content/submission.csv')"
      ],
      "metadata": {
        "id": "mzaio-DM8h-h"
      },
      "execution_count": null,
      "outputs": []
    },
    {
      "cell_type": "code",
      "source": [
        "submission['box_off_num'] = (cat_pred + lgbm_pred  + gbr_pred + ngb_pred) / 4\n",
        "submission"
      ],
      "metadata": {
        "colab": {
          "base_uri": "https://localhost:8080/",
          "height": 423
        },
        "id": "_gwKCpux72WI",
        "outputId": "db21d3e9-f47c-424e-ab30-81a41fd2cdcd"
      },
      "execution_count": null,
      "outputs": [
        {
          "output_type": "execute_result",
          "data": {
            "text/plain": [
              "               title   box_off_num\n",
              "0             용서는 없다  1.066325e+06\n",
              "1        아빠가 여자를 좋아해  2.300947e+06\n",
              "2                하모니  1.718287e+06\n",
              "3                의형제  3.265156e+06\n",
              "4              평행 이론  1.457170e+06\n",
              "..               ...           ...\n",
              "238        해에게서 소년에게  9.477557e+03\n",
              "239           울보 권투부  3.701546e+03\n",
              "240             어떤살인  2.430138e+01\n",
              "241        말하지 못한 비밀  1.618238e+03\n",
              "242  조선안방 스캔들-칠거지악 2  7.195525e+02\n",
              "\n",
              "[243 rows x 2 columns]"
            ],
            "text/html": [
              "\n",
              "  <div id=\"df-66ea2e9e-83a4-4985-8f3d-386cd8d973bc\">\n",
              "    <div class=\"colab-df-container\">\n",
              "      <div>\n",
              "<style scoped>\n",
              "    .dataframe tbody tr th:only-of-type {\n",
              "        vertical-align: middle;\n",
              "    }\n",
              "\n",
              "    .dataframe tbody tr th {\n",
              "        vertical-align: top;\n",
              "    }\n",
              "\n",
              "    .dataframe thead th {\n",
              "        text-align: right;\n",
              "    }\n",
              "</style>\n",
              "<table border=\"1\" class=\"dataframe\">\n",
              "  <thead>\n",
              "    <tr style=\"text-align: right;\">\n",
              "      <th></th>\n",
              "      <th>title</th>\n",
              "      <th>box_off_num</th>\n",
              "    </tr>\n",
              "  </thead>\n",
              "  <tbody>\n",
              "    <tr>\n",
              "      <th>0</th>\n",
              "      <td>용서는 없다</td>\n",
              "      <td>1.066325e+06</td>\n",
              "    </tr>\n",
              "    <tr>\n",
              "      <th>1</th>\n",
              "      <td>아빠가 여자를 좋아해</td>\n",
              "      <td>2.300947e+06</td>\n",
              "    </tr>\n",
              "    <tr>\n",
              "      <th>2</th>\n",
              "      <td>하모니</td>\n",
              "      <td>1.718287e+06</td>\n",
              "    </tr>\n",
              "    <tr>\n",
              "      <th>3</th>\n",
              "      <td>의형제</td>\n",
              "      <td>3.265156e+06</td>\n",
              "    </tr>\n",
              "    <tr>\n",
              "      <th>4</th>\n",
              "      <td>평행 이론</td>\n",
              "      <td>1.457170e+06</td>\n",
              "    </tr>\n",
              "    <tr>\n",
              "      <th>...</th>\n",
              "      <td>...</td>\n",
              "      <td>...</td>\n",
              "    </tr>\n",
              "    <tr>\n",
              "      <th>238</th>\n",
              "      <td>해에게서 소년에게</td>\n",
              "      <td>9.477557e+03</td>\n",
              "    </tr>\n",
              "    <tr>\n",
              "      <th>239</th>\n",
              "      <td>울보 권투부</td>\n",
              "      <td>3.701546e+03</td>\n",
              "    </tr>\n",
              "    <tr>\n",
              "      <th>240</th>\n",
              "      <td>어떤살인</td>\n",
              "      <td>2.430138e+01</td>\n",
              "    </tr>\n",
              "    <tr>\n",
              "      <th>241</th>\n",
              "      <td>말하지 못한 비밀</td>\n",
              "      <td>1.618238e+03</td>\n",
              "    </tr>\n",
              "    <tr>\n",
              "      <th>242</th>\n",
              "      <td>조선안방 스캔들-칠거지악 2</td>\n",
              "      <td>7.195525e+02</td>\n",
              "    </tr>\n",
              "  </tbody>\n",
              "</table>\n",
              "<p>243 rows × 2 columns</p>\n",
              "</div>\n",
              "      <button class=\"colab-df-convert\" onclick=\"convertToInteractive('df-66ea2e9e-83a4-4985-8f3d-386cd8d973bc')\"\n",
              "              title=\"Convert this dataframe to an interactive table.\"\n",
              "              style=\"display:none;\">\n",
              "        \n",
              "  <svg xmlns=\"http://www.w3.org/2000/svg\" height=\"24px\"viewBox=\"0 0 24 24\"\n",
              "       width=\"24px\">\n",
              "    <path d=\"M0 0h24v24H0V0z\" fill=\"none\"/>\n",
              "    <path d=\"M18.56 5.44l.94 2.06.94-2.06 2.06-.94-2.06-.94-.94-2.06-.94 2.06-2.06.94zm-11 1L8.5 8.5l.94-2.06 2.06-.94-2.06-.94L8.5 2.5l-.94 2.06-2.06.94zm10 10l.94 2.06.94-2.06 2.06-.94-2.06-.94-.94-2.06-.94 2.06-2.06.94z\"/><path d=\"M17.41 7.96l-1.37-1.37c-.4-.4-.92-.59-1.43-.59-.52 0-1.04.2-1.43.59L10.3 9.45l-7.72 7.72c-.78.78-.78 2.05 0 2.83L4 21.41c.39.39.9.59 1.41.59.51 0 1.02-.2 1.41-.59l7.78-7.78 2.81-2.81c.8-.78.8-2.07 0-2.86zM5.41 20L4 18.59l7.72-7.72 1.47 1.35L5.41 20z\"/>\n",
              "  </svg>\n",
              "      </button>\n",
              "      \n",
              "  <style>\n",
              "    .colab-df-container {\n",
              "      display:flex;\n",
              "      flex-wrap:wrap;\n",
              "      gap: 12px;\n",
              "    }\n",
              "\n",
              "    .colab-df-convert {\n",
              "      background-color: #E8F0FE;\n",
              "      border: none;\n",
              "      border-radius: 50%;\n",
              "      cursor: pointer;\n",
              "      display: none;\n",
              "      fill: #1967D2;\n",
              "      height: 32px;\n",
              "      padding: 0 0 0 0;\n",
              "      width: 32px;\n",
              "    }\n",
              "\n",
              "    .colab-df-convert:hover {\n",
              "      background-color: #E2EBFA;\n",
              "      box-shadow: 0px 1px 2px rgba(60, 64, 67, 0.3), 0px 1px 3px 1px rgba(60, 64, 67, 0.15);\n",
              "      fill: #174EA6;\n",
              "    }\n",
              "\n",
              "    [theme=dark] .colab-df-convert {\n",
              "      background-color: #3B4455;\n",
              "      fill: #D2E3FC;\n",
              "    }\n",
              "\n",
              "    [theme=dark] .colab-df-convert:hover {\n",
              "      background-color: #434B5C;\n",
              "      box-shadow: 0px 1px 3px 1px rgba(0, 0, 0, 0.15);\n",
              "      filter: drop-shadow(0px 1px 2px rgba(0, 0, 0, 0.3));\n",
              "      fill: #FFFFFF;\n",
              "    }\n",
              "  </style>\n",
              "\n",
              "      <script>\n",
              "        const buttonEl =\n",
              "          document.querySelector('#df-66ea2e9e-83a4-4985-8f3d-386cd8d973bc button.colab-df-convert');\n",
              "        buttonEl.style.display =\n",
              "          google.colab.kernel.accessAllowed ? 'block' : 'none';\n",
              "\n",
              "        async function convertToInteractive(key) {\n",
              "          const element = document.querySelector('#df-66ea2e9e-83a4-4985-8f3d-386cd8d973bc');\n",
              "          const dataTable =\n",
              "            await google.colab.kernel.invokeFunction('convertToInteractive',\n",
              "                                                     [key], {});\n",
              "          if (!dataTable) return;\n",
              "\n",
              "          const docLinkHtml = 'Like what you see? Visit the ' +\n",
              "            '<a target=\"_blank\" href=https://colab.research.google.com/notebooks/data_table.ipynb>data table notebook</a>'\n",
              "            + ' to learn more about interactive tables.';\n",
              "          element.innerHTML = '';\n",
              "          dataTable['output_type'] = 'display_data';\n",
              "          await google.colab.output.renderOutput(dataTable, element);\n",
              "          const docLink = document.createElement('div');\n",
              "          docLink.innerHTML = docLinkHtml;\n",
              "          element.appendChild(docLink);\n",
              "        }\n",
              "      </script>\n",
              "    </div>\n",
              "  </div>\n",
              "  "
            ]
          },
          "metadata": {},
          "execution_count": 150
        }
      ]
    }
  ]
}
